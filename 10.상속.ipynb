{
 "cells": [
  {
   "cell_type": "code",
   "execution_count": 8,
   "metadata": {},
   "outputs": [],
   "source": [
    "class Monster:#부모 클래스\n",
    "    def __init__(self,name,health,attack,speed): #생성자\n",
    "        self.name=name\n",
    "        self.health=health\n",
    "        self.attack =attack\n",
    "        self.speed=speed\n",
    "    def move(self):\n",
    "        print(f\"[{self.name}]이동하기\")\n",
    "    \n"
   ]
  },
  {
   "cell_type": "code",
   "execution_count": 12,
   "metadata": {},
   "outputs": [],
   "source": [
    "#상속: 클래스들에 중복된 코드를 제거하고 유지보수를 위해 사용\n",
    "class Wolf(Monster):#몬스터로 부터 상속받음\n",
    "    def move(self):\n",
    "        print(f\"[{self.name}]달리기\")\n",
    "\n",
    "class Shark(Monster):\n",
    "    def move(self): #메서드 오버라이딩: 메서드 재정의\n",
    "        print(f\"[{self.name}]헤엄치기\")\n",
    "class Dragon(Monster):\n",
    "    def Move(self):\n",
    "        print(f\"[{self.name}] 날기\")"
   ]
  },
  {
   "cell_type": "code",
   "execution_count": 17,
   "metadata": {},
   "outputs": [
    {
     "name": "stdout",
     "output_type": "stream",
     "text": [
      "[늑대]달리기\n",
      "[Shark]헤엄치기\n"
     ]
    }
   ],
   "source": [
    "wolf= Wolf(\"늑대\",1500,200,100)\n",
    "wolf.move()\n",
    "\n",
    "shark=Shark(\"Shark\",1200,800,800)\n",
    "shark.move()"
   ]
  }
 ],
 "metadata": {
  "kernelspec": {
   "display_name": "Python 3",
   "language": "python",
   "name": "python3"
  },
  "language_info": {
   "codemirror_mode": {
    "name": "ipython",
    "version": 3
   },
   "file_extension": ".py",
   "mimetype": "text/x-python",
   "name": "python",
   "nbconvert_exporter": "python",
   "pygments_lexer": "ipython3",
   "version": "3.12.4"
  }
 },
 "nbformat": 4,
 "nbformat_minor": 2
}
