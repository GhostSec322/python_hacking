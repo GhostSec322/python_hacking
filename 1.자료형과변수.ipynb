{
 "cells": [
  {
   "cell_type": "code",
   "execution_count": null,
   "metadata": {},
   "outputs": [],
   "source": [
    "# 숫자자료형 \n",
    "# 1. 정수형: 소수점이 없는 수 \n",
    "print(1,2,3)\n",
    "# 2. 실수형 : 소수점이 있는 수\n",
    "print(3.14)\n",
    "# 3. 문자자료형\n",
    "print(\"String\")\n",
    "print('string')\n",
    "print(\"string\"+\"Hello\")\n",
    "# 4. 불린\n",
    "print(True)\n",
    "print(False)"
   ]
  },
  {
   "cell_type": "code",
   "execution_count": 2,
   "metadata": {},
   "outputs": [
    {
     "name": "stdout",
     "output_type": "stream",
     "text": [
      "Hello My name is GhostSec and 24 years old\n",
      "25\n"
     ]
    },
    {
     "ename": "",
     "evalue": "",
     "output_type": "error",
     "traceback": [
      "\u001b[1;31mThe Kernel crashed while executing code in the current cell or a previous cell. \n",
      "\u001b[1;31mPlease review the code in the cell(s) to identify a possible cause of the failure. \n",
      "\u001b[1;31mClick <a href='https://aka.ms/vscodeJupyterKernelCrash'>here</a> for more info. \n",
      "\u001b[1;31mView Jupyter <a href='command:jupyter.viewOutput'>log</a> for further details."
     ]
    }
   ],
   "source": [
    "#변수: 데이터를 임시로 저장할수 있는 동간\n",
    "#24이라는 값을 age라는 변수에 저장\n",
    "age=24\n",
    "name= \"GhostSec\"\n",
    "print(f\"Hello My name is {name} and {age} years old\")\n",
    "age+=1 # age=age+1\n",
    "print(age)"
   ]
  }
 ],
 "metadata": {
  "kernelspec": {
   "display_name": "Python 3",
   "language": "python",
   "name": "python3"
  },
  "language_info": {
   "codemirror_mode": {
    "name": "ipython",
    "version": 3
   },
   "file_extension": ".py",
   "mimetype": "text/x-python",
   "name": "python",
   "nbconvert_exporter": "python",
   "pygments_lexer": "ipython3",
   "version": "3.12.4"
  }
 },
 "nbformat": 4,
 "nbformat_minor": 2
}
