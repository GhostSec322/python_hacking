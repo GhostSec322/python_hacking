{
 "cells": [
  {
   "cell_type": "markdown",
   "metadata": {},
   "source": []
  },
  {
   "cell_type": "code",
   "execution_count": 2,
   "metadata": {},
   "outputs": [
    {
     "name": "stdout",
     "output_type": "stream",
     "text": [
      "3\n",
      "1\n",
      "3\n",
      "4\n",
      "2.0\n",
      "2\n",
      "0\n"
     ]
    }
   ],
   "source": [
    "#1. 대입연산\n",
    "a=19\n",
    "#2. 산술연산\n",
    "print(1+2)\n",
    "print(2-1)\n",
    "print(3*1)\n",
    "print(2**2)\n",
    "print(4/2)\n",
    "print(4//2)\n",
    "print(4%2)"
   ]
  },
  {
   "cell_type": "code",
   "execution_count": 4,
   "metadata": {},
   "outputs": [
    {
     "name": "stdout",
     "output_type": "stream",
     "text": [
      "Hello Python\n"
     ]
    }
   ],
   "source": [
    "#3. 문자연산\n",
    "a=\"Hello\"\n",
    "b=\" Python\"\n",
    "print(a+b)"
   ]
  },
  {
   "cell_type": "code",
   "execution_count": 5,
   "metadata": {},
   "outputs": [
    {
     "name": "stdout",
     "output_type": "stream",
     "text": [
      "1\n",
      "2\n",
      "1\n",
      "2\n",
      "1.0\n"
     ]
    }
   ],
   "source": [
    "#복합할당연산\n",
    "level=1\n",
    "print(level)\n",
    "level+=1\n",
    "print(level)\n",
    "level-=1\n",
    "print(level)\n",
    "level*=2\n",
    "print(level)\n",
    "level/=2\n",
    "print(level)\n"
   ]
  },
  {
   "cell_type": "code",
   "execution_count": 6,
   "metadata": {},
   "outputs": [
    {
     "name": "stdout",
     "output_type": "stream",
     "text": [
      "- 비교연산 문제\n",
      "False\n",
      "True\n",
      "True\n",
      "True\n",
      "False\n",
      "True\n",
      "- 논리연산 문제\n",
      "True\n",
      "True\n",
      "False\n",
      "- 멤버십 연산 문제\n",
      "True\n",
      "True\n"
     ]
    }
   ],
   "source": [
    "# 1. 비교연산\n",
    "print(\"- 비교연산 문제\")\n",
    "print(2 > 3) # False\n",
    "print(15 < 30) # True\n",
    "print(1.5 >= 0) # True\n",
    "print(3 <= 3) # True\n",
    "print(\"팙팗팚\" == \"팙팗팗\") # False\n",
    "print(\"1111111111111111111\" != \"111111111111111111\") # True\n",
    "\n",
    "# 2. 논리연산\n",
    "print(\"- 논리연산 문제\")\n",
    "print(4 < 6 and 10 >= 10) # True and True -> True\n",
    "print(\"포기하지말아요\" != \"포기하지말아요\" or \"나는 할 수 있다\" == \"나는 할 수 있다\") # False or True -> True\n",
    "print(not 5==5) # not True -> False\n",
    "\n",
    "# 3. 멤버십 연산\n",
    "print(\"- 멤버십 연산 문제\")\n",
    "print(\"a\" in \"abc\") # 포함되어 있다면 True\n",
    "print(\"d\" not in \"abc\") # 포함되어 있지 않다면 True"
   ]
  },
  {
   "cell_type": "markdown",
   "metadata": {},
   "source": [
    "# 실습문제 4.3.1\n",
    "# 사용자로부터 두개의 숫자를 입력 받고,\n",
    "# 더한 결과를 출력하기"
   ]
  },
  {
   "cell_type": "code",
   "execution_count": 9,
   "metadata": {},
   "outputs": [
    {
     "name": "stdout",
     "output_type": "stream",
     "text": [
      "3\n"
     ]
    }
   ],
   "source": [
    "number1=int(input(\"숫자입력>>\"))\n",
    "number2=int(input(\"숫자입력>>\"))\n",
    "print(number1+number2)"
   ]
  },
  {
   "cell_type": "markdown",
   "metadata": {},
   "source": [
    "# 실습문제 4.3.2\n",
    "# 사용자로부터 태어난 연도를 입력받고,\n",
    "# 현재 나이를 출력하기"
   ]
  },
  {
   "cell_type": "code",
   "execution_count": 10,
   "metadata": {},
   "outputs": [
    {
     "name": "stdout",
     "output_type": "stream",
     "text": [
      "24\n"
     ]
    }
   ],
   "source": [
    "year=int(input(\"태어난 연도\"))\n",
    "print(2024-year +1)"
   ]
  }
 ],
 "metadata": {
  "kernelspec": {
   "display_name": "Python 3",
   "language": "python",
   "name": "python3"
  },
  "language_info": {
   "codemirror_mode": {
    "name": "ipython",
    "version": 3
   },
   "file_extension": ".py",
   "mimetype": "text/x-python",
   "name": "python",
   "nbconvert_exporter": "python",
   "pygments_lexer": "ipython3",
   "version": "3.12.4"
  }
 },
 "nbformat": 4,
 "nbformat_minor": 2
}
