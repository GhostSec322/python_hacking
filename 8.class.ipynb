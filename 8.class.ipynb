{
 "cells": [
  {
   "cell_type": "code",
   "execution_count": 1,
   "metadata": {},
   "outputs": [
    {
     "name": "stdout",
     "output_type": "stream",
     "text": [
      "이즈리얼님 소환사의 협곡에 오신것을 환영합니다.\n",
      "이즈리얼님 의 기본공격90\n"
     ]
    }
   ],
   "source": [
    "#클래스 객체 개념\n",
    "#클래스 : 객체를 만들기 위한 설계도(속성, 메서들의 집합)\n",
    "#속성: 기본정보\n",
    "#메서드: 동작 \n",
    "#객체: 설계도로 부터 만들어낸 제품\n",
    "# 클래스 만들기\n",
    "class Champion:\n",
    "    def __init__(self,name,health,attack):\n",
    "        self.name= name\n",
    "        self.health=health\n",
    "        self.attack=attack\n",
    "        print(f\"{self.name}님 소환사의 협곡에 오신것을 환영합니다.\")\n",
    "    def basic_attack(self):\n",
    "        print(f\"{self.name}님 의 기본공격 {self.attack}\")\n",
    "\n",
    "ezreal= Champion(\"이즈리얼\",800,90)\n",
    "ezreal.basic_attack()"
   ]
  }
 ],
 "metadata": {
  "kernelspec": {
   "display_name": "Python 3",
   "language": "python",
   "name": "python3"
  },
  "language_info": {
   "codemirror_mode": {
    "name": "ipython",
    "version": 3
   },
   "file_extension": ".py",
   "mimetype": "text/x-python",
   "name": "python",
   "nbconvert_exporter": "python",
   "pygments_lexer": "ipython3",
   "version": "3.12.4"
  }
 },
 "nbformat": 4,
 "nbformat_minor": 2
}
