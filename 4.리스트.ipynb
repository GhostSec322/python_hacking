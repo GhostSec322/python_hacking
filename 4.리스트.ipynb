{
 "cells": [
  {
   "cell_type": "code",
   "execution_count": 18,
   "metadata": {},
   "outputs": [],
   "source": [
    "animal1= '사자'\n",
    "animal2= '호랑이'\n",
    "animal3= '강아지'\n",
    "animal4= '송아지'\n",
    "\n",
    "animal=['사자','호랑이','강아지','송아지']"
   ]
  },
  {
   "cell_type": "code",
   "execution_count": 19,
   "metadata": {},
   "outputs": [
    {
     "name": "stdout",
     "output_type": "stream",
     "text": [
      "['사자', '호랑이', '강아지', '송아지', '뱀']\n",
      "['코알라', '호랑이', '강아지', '송아지', '뱀']\n",
      "['코알라', '호랑이', '강아지', '송아지']\n"
     ]
    }
   ],
   "source": [
    "#데이터 추가\n",
    "animal.append(\"뱀\")\n",
    "print(animal)\n",
    "#데이터 할당\n",
    "animal[0]=\"코알라\"\n",
    "print(animal)\n",
    "#데이터 삭제\n",
    "del animal[4]\n",
    "print(animal)"
   ]
  },
  {
   "cell_type": "code",
   "execution_count": 20,
   "metadata": {},
   "outputs": [
    {
     "name": "stdout",
     "output_type": "stream",
     "text": [
      "['코알라', '호랑이', '강아지']\n",
      "4\n",
      "['강아지', '송아지', '코알라', '호랑이']\n"
     ]
    }
   ],
   "source": [
    "#슬라이싱\n",
    "#리스트[리스트시작:끝+1]\n",
    "print(animal[0:3])\n",
    "#리스트 길이\n",
    "print(len(animal))\n",
    "#리스트 정렬\n",
    "animal.sort()\n",
    "print(animal)\n"
   ]
  },
  {
   "cell_type": "markdown",
   "metadata": {},
   "source": [
    "실습문제 5.2.1\n",
    "다음은 패스트 고등학교 2학년 3반 1번부터 5번까지의 1분간 팔굽혀펴기 개수이다. 데이터는 리스트에 저장 되어 있다. 각 문항을 실행한 결과를 출력해 보자. \n",
    "result = [33, 40, 12, 63, 52]"
   ]
  },
  {
   "cell_type": "code",
   "execution_count": 24,
   "metadata": {},
   "outputs": [
    {
     "name": "stdout",
     "output_type": "stream",
     "text": [
      "[33, 40, 12, 63, 52, 9]\n",
      "[33, 50, 12, 63, 52, 9]\n",
      "[12, 63, 52, 9]\n",
      "[9, 12, 33, 50, 52, 63]\n"
     ]
    }
   ],
   "source": [
    "result = [33, 40, 12, 63, 52]\n",
    "#문항 1  6번의 팔굽혀펴기 개수는 9개이다. 리스트의 마지막에 추가하자.\n",
    "result.append(9)\n",
    "print(result)\n",
    "#2번은 재측정하여 50개를 하였다. 2번의 데이터를 변경해 보자.\n",
    "result[1]=50\n",
    "print(result)\n",
    "#문항 3 3번부터 6번까지 데이터를 슬라이싱하자\n",
    "print(result[2:])\n",
    "#모든 데이터를 오름차순으로 정렬하자.\n",
    "result.sort()\n",
    "print(result)\n",
    "\n",
    "\n"
   ]
  }
 ],
 "metadata": {
  "kernelspec": {
   "display_name": "Python 3",
   "language": "python",
   "name": "python3"
  },
  "language_info": {
   "codemirror_mode": {
    "name": "ipython",
    "version": 3
   },
   "file_extension": ".py",
   "mimetype": "text/x-python",
   "name": "python",
   "nbconvert_exporter": "python",
   "pygments_lexer": "ipython3",
   "version": "3.12.4"
  }
 },
 "nbformat": 4,
 "nbformat_minor": 2
}
