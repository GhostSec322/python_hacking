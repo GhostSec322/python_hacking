{
 "cells": [
  {
   "cell_type": "markdown",
   "metadata": {},
   "source": [
    "# 나이와 이름을 입력받아 출력하는 프로그램을 작성해보세요.\n",
    "# 입력 예시: 이름 - Alice, 나이 - 25\n",
    "# 출력 예시: Alice의 나이는 25살입니다.\n"
   ]
  },
  {
   "cell_type": "code",
   "execution_count": 3,
   "metadata": {},
   "outputs": [
    {
     "name": "stdout",
     "output_type": "stream",
     "text": [
      "kms의 나이는 24살입니다.\n"
     ]
    }
   ],
   "source": [
    "name,age= input().split(',')\n",
    "print(f\"{name}의 나이는 {age}살입니다.\") "
   ]
  },
  {
   "cell_type": "markdown",
   "metadata": {},
   "source": [
    "# 두 수를 입력받아 더하기, 빼기, 곱하기, 나누기를 각각 출력하는 프로그램을 작성하세요.\n",
    "# 입력 예시: 10, 5\n",
    "# 출력 예시: \n",
    "# 더하기: 15\n",
    "# 빼기: 5\n",
    "# 곱하기: 50\n",
    "# 나누기: 2.0\n"
   ]
  },
  {
   "cell_type": "code",
   "execution_count": 8,
   "metadata": {},
   "outputs": [
    {
     "name": "stdout",
     "output_type": "stream",
     "text": [
      "15\n",
      "5\n",
      "50\n",
      "2.0\n"
     ]
    }
   ],
   "source": [
    "a,b=input().split(',')\n",
    "a=int(a)\n",
    "b=int(b)\n",
    "print(a+b)\n",
    "print(a-b)\n",
    "print(a*b)\n",
    "print(a/b)"
   ]
  },
  {
   "cell_type": "code",
   "execution_count": 9,
   "metadata": {},
   "outputs": [
    {
     "name": "stdout",
     "output_type": "stream",
     "text": [
      "7는 홀수입니다\n"
     ]
    }
   ],
   "source": [
    "# 사용자에게 숫자를 입력받아, 그 숫자가 짝수인지 홀수인지 출력하는 프로그램을 작성하세요.\n",
    "# 입력 예시: 7\n",
    "# 출력 예시: 7은 홀수입니다.\n",
    "a=int(input())\n",
    "if int(a%2)==0:\n",
    "    print(f\"{a}은 짝수입니다\")\n",
    "else:\n",
    "    print(f\"{a}은 홀수입니다\")"
   ]
  },
  {
   "cell_type": "code",
   "execution_count": 12,
   "metadata": {},
   "outputs": [
    {
     "name": "stdout",
     "output_type": "stream",
     "text": [
      "1 2 3 4 5 6 7 8 9 10 "
     ]
    }
   ],
   "source": [
    "# 1부터 10까지의 숫자를 출력하는 프로그램을 작성하세요.\n",
    "# 출력 예시: 1 2 3 4 5 6 7 8 9 10\n",
    "for i in range(1,11):\n",
    "    print(i,end=\" \")"
   ]
  },
  {
   "cell_type": "code",
   "execution_count": 13,
   "metadata": {},
   "outputs": [
    {
     "name": "stdout",
     "output_type": "stream",
     "text": [
      "사과\n",
      "바나나\n",
      "포도\n"
     ]
    }
   ],
   "source": [
    "# 과일 리스트를 만들어서 모든 과일 이름을 출력하는 프로그램을 작성하세요.\n",
    "# 과일 리스트: [\"사과\", \"바나나\", \"포도\"]\n",
    "# 출력 예시: \n",
    "# 사과\n",
    "# 바나나\n",
    "# 포도\n",
    "flults=[\"사과\",\"바나나\",\"포도\"]\n",
    "for i in flults:\n",
    "    print(i)"
   ]
  },
  {
   "cell_type": "code",
   "execution_count": 15,
   "metadata": {},
   "outputs": [
    {
     "name": "stdout",
     "output_type": "stream",
     "text": [
      "결과는 5입니다.\n"
     ]
    }
   ],
   "source": [
    "# 두 수를 입력받아 더한 값을 반환하는 함수를 작성하고, 그 함수를 호출하는 프로그램을 작성하세요.\n",
    "# 입력 예시: 4, 5\n",
    "# 출력 예시: 결과는 9입니다.\n",
    "def add(op1,op2):\n",
    "    return op1+op2\n",
    "a, b = map(int, input(\"두 수를 입력하세요 (예: 4, 5): \").split(','))\n",
    "print(f\"결과는 {add(a, b)}입니다.\")"
   ]
  },
  {
   "cell_type": "code",
   "execution_count": 25,
   "metadata": {},
   "outputs": [
    {
     "name": "stdout",
     "output_type": "stream",
     "text": [
      "(1, 2, 3)\n"
     ]
    }
   ],
   "source": [
    "# 사용자가 입력한 세 개의 숫자를 튜플로 저장하고, 각 숫자를 출력하는 프로그램을 작성하세요.\n",
    "# 입력 예시: 1, 2, 3\n",
    "# 출력 예시: (1, 2, 3)\n",
    "a,b,c=input().split(\",\")\n",
    "num= int(a),int(b),int(c)\n",
    "print(num)"
   ]
  },
  {
   "cell_type": "code",
   "execution_count": 27,
   "metadata": {},
   "outputs": [
    {
     "name": "stdout",
     "output_type": "stream",
     "text": [
      "Alice: 85\n",
      "Bob: 92\n",
      "Charlie: 78\n"
     ]
    }
   ],
   "source": [
    "# 학생들의 이름과 점수를 딕셔너리로 저장한 후, 이름과 점수를 각각 출력하는 프로그램을 작성하세요.\n",
    "# 딕셔너리 예시: {\"Alice\": 85, \"Bob\": 92, \"Charlie\": 78}\n",
    "# 출력 예시:\n",
    "# Alice: 85\n",
    "# Bob: 92\n",
    "# Charlie: 78\n",
    "info= {\"Alice\": 85, \"Bob\": 92, \"Charlie\": 78}\n",
    "for key,value in info.items() :\n",
    "    print(f\"{key}: {value}\")"
   ]
  },
  {
   "cell_type": "code",
   "execution_count": 31,
   "metadata": {},
   "outputs": [
    {
     "name": "stdout",
     "output_type": "stream",
     "text": [
      "2 4 6 8 10 12 14 16 18 20 "
     ]
    }
   ],
   "source": [
    "# 1부터 20까지의 숫자 중에서 짝수만 출력하는 프로그램을 작성하세요.\n",
    "# 출력 예시: 2 4 6 8 10 12 14 16 18 20\n",
    "\n",
    "num= [i for i in range(1,21)]\n",
    "for i in num:\n",
    "    if i %2 ==0:\n",
    "        print(f\"{i} \",end=\"\")"
   ]
  },
  {
   "cell_type": "code",
   "execution_count": 33,
   "metadata": {},
   "outputs": [
    {
     "name": "stdout",
     "output_type": "stream",
     "text": [
      "합계는 15입니다.\n"
     ]
    },
    {
     "ename": "",
     "evalue": "",
     "output_type": "error",
     "traceback": [
      "\u001b[1;31mThe Kernel crashed while executing code in the current cell or a previous cell. \n",
      "\u001b[1;31mPlease review the code in the cell(s) to identify a possible cause of the failure. \n",
      "\u001b[1;31mClick <a href='https://aka.ms/vscodeJupyterKernelCrash'>here</a> for more info. \n",
      "\u001b[1;31mView Jupyter <a href='command:jupyter.viewOutput'>log</a> for further details."
     ]
    }
   ],
   "source": [
    "# 숫자 리스트를 받아, 리스트 내의 모든 숫자를 더한 값을 반환하는 함수를 작성하세요.\n",
    "# 리스트 예시: [1, 2, 3, 4, 5]\n",
    "# 출력 예시: 합계는 15입니다.\n",
    "num=[1,2,3,4,5]\n",
    "print(f\"합계는 {sum(num)}입니다.\")"
   ]
  }
 ],
 "metadata": {
  "kernelspec": {
   "display_name": "Python 3",
   "language": "python",
   "name": "python3"
  },
  "language_info": {
   "codemirror_mode": {
    "name": "ipython",
    "version": 3
   },
   "file_extension": ".py",
   "mimetype": "text/x-python",
   "name": "python",
   "nbconvert_exporter": "python",
   "pygments_lexer": "ipython3",
   "version": "3.12.4"
  }
 },
 "nbformat": 4,
 "nbformat_minor": 2
}
