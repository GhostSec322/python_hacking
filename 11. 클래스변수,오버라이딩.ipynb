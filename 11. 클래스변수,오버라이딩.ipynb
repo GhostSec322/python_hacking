{
 "cells": [
  {
   "cell_type": "code",
   "execution_count": 10,
   "metadata": {},
   "outputs": [
    {
     "name": "stdout",
     "output_type": "stream",
     "text": [
      "[Dragon] 스킬사용 [불뿜기]\n",
      "999\n"
     ]
    }
   ],
   "source": [
    "\n",
    "import random\n",
    "class Monster:#부모 클래스\n",
    "    max_num=1000 #클래스 변수: 인스턴스들이 모두 공유하는 변수\n",
    "    def __init__(self,name,health,attack,speed): #생성자\n",
    "        self.name=name\n",
    "        self.health=health\n",
    "        self.attack =attack\n",
    "        self.speed=speed\n",
    "        Monster.max_num-=1 #클래스 변수: 인스턴스들이 모두 공유하는 변수\n",
    "    def move(self):\n",
    "        print(f\"[{self.name}]이동하기\")\n",
    "    \n",
    "class Dragon(Monster):\n",
    "    def __init__(self, name, health, attack, speed):\n",
    "        super().__init__(name, health, attack, speed)\n",
    "        self.skills=(\"불뿜기\",\"날개치기\",\"꼬리치기\")\n",
    "    def Move(self):\n",
    "        print(f\"[{self.name}] 날기\")\n",
    "    def skill(self):\n",
    "        print(f\"[{self.name}] 스킬사용 [{self.skills[random.randint(0,2)]}]\")\n",
    "dragon=Dragon(\"Dragon\",1200,800,200)\n",
    "dragon.skill()\n",
    "print(dragon.max_num)"
   ]
  }
 ],
 "metadata": {
  "kernelspec": {
   "display_name": "Python 3",
   "language": "python",
   "name": "python3"
  },
  "language_info": {
   "codemirror_mode": {
    "name": "ipython",
    "version": 3
   },
   "file_extension": ".py",
   "mimetype": "text/x-python",
   "name": "python",
   "nbconvert_exporter": "python",
   "pygments_lexer": "ipython3",
   "version": "3.12.4"
  }
 },
 "nbformat": 4,
 "nbformat_minor": 2
}
