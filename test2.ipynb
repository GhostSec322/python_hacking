{
 "cells": [
  {
   "cell_type": "code",
   "execution_count": 1,
   "metadata": {},
   "outputs": [
    {
     "name": "stdout",
     "output_type": "stream",
     "text": [
      "<class 'int'> <class 'float'> <class 'str'>\n"
     ]
    }
   ],
   "source": [
    "# 1. 자료형\n",
    "# 사용자로부터 정수, 실수, 문자열을 각각 입력받고, 각 자료형의 타입을 출력하는 코드를 작성하세요.\n",
    "integer=int(input())\n",
    "float_number=float(input())\n",
    "string=input()\n",
    "print(type(integer),type(float_number),type(string))\n",
    "\n"
   ]
  },
  {
   "cell_type": "code",
   "execution_count": 3,
   "metadata": {},
   "outputs": [
    {
     "name": "stdout",
     "output_type": "stream",
     "text": [
      "30\n",
      "-10\n",
      "200\n",
      "0\n",
      "0.5\n",
      "10\n",
      "100000000000000000000\n"
     ]
    }
   ],
   "source": [
    "# 2. 연산자\n",
    "# 두 개의 정수를 입력받아 더하기, 빼기, 곱하기, 나누기, 나머지, 몫, 거듭제곱을 각각 수행하고 결과를 출력하는 프로그램을 작성하세요.\n",
    "op1=int(input())\n",
    "op2=int(input())\n",
    "\n",
    "print(op1+op2)\n",
    "print(op1-op2)\n",
    "print(op1*op2)\n",
    "print(op1//op2)\n",
    "print(op1/op2)\n",
    "print(op1%op2)\n",
    "print(op1**op2)"
   ]
  },
  {
   "cell_type": "code",
   "execution_count": null,
   "metadata": {},
   "outputs": [],
   "source": [
    "\n",
    "# 3. 조건문\n",
    "# 사용자로부터 숫자를 입력받고, 그 숫자가 양수, 음수 또는 0인지 출력하는 프로그램을 작성하세요.\n",
    "num= int(input())\n",
    "if num ==0:\n",
    "    print(\"0 입니다\")\n",
    "elif num>0:\n",
    "    print(\"양수 입니다\")\n",
    "else:\n",
    "    print(\"음수입니다\")"
   ]
  },
  {
   "cell_type": "code",
   "execution_count": 4,
   "metadata": {},
   "outputs": [
    {
     "name": "stdout",
     "output_type": "stream",
     "text": [
      "15\n",
      "30\n",
      "45\n",
      "60\n",
      "75\n",
      "90\n"
     ]
    }
   ],
   "source": [
    "\n",
    "# 4. 반복문\n",
    "# 1부터 100까지의 숫자 중에서 3의 배수이면서 5의 배수인 숫자를 출력하는 코드를 작성하세요.\n",
    "for i in range(1,101):\n",
    "    if i %3 ==0 and i%5==0:\n",
    "        print(i)"
   ]
  },
  {
   "cell_type": "code",
   "execution_count": 17,
   "metadata": {},
   "outputs": [
    {
     "name": "stdout",
     "output_type": "stream",
     "text": [
      "5\n"
     ]
    }
   ],
   "source": [
    "\n",
    "# 5. 리스트\n",
    "# 사용자로부터 여러 개의 숫자를 입력받아 리스트에 저장하고, 그 리스트의 최댓값과 최솟값을 출력하는 프로그램을 작성하세요.\n",
    "number = list(input().split(\",\"))\n",
    "listnum=[]\n",
    "\n",
    "for i in number:\n",
    "    listnum.append(int(i))\n",
    "\n",
    "print(max(listnum))\n"
   ]
  },
  {
   "cell_type": "code",
   "execution_count": 20,
   "metadata": {},
   "outputs": [
    {
     "name": "stdout",
     "output_type": "stream",
     "text": [
      "['1', '2']\n"
     ]
    },
    {
     "ename": "TypeError",
     "evalue": "'method' object is not subscriptable",
     "output_type": "error",
     "traceback": [
      "\u001b[1;31m---------------------------------------------------------------------------\u001b[0m",
      "\u001b[1;31mTypeError\u001b[0m                                 Traceback (most recent call last)",
      "Cell \u001b[1;32mIn[20], line 9\u001b[0m\n\u001b[0;32m      5\u001b[0m input_int\u001b[38;5;241m=\u001b[39m \u001b[38;5;28minput\u001b[39m()\u001b[38;5;241m.\u001b[39msplit(\u001b[38;5;124m\"\u001b[39m\u001b[38;5;124m,\u001b[39m\u001b[38;5;124m\"\u001b[39m)\n\u001b[0;32m      7\u001b[0m \u001b[38;5;28mprint\u001b[39m(input_int)\n\u001b[1;32m----> 9\u001b[0m \u001b[38;5;28mprint\u001b[39m(\u001b[38;5;28mint\u001b[39m(\u001b[38;5;28;43minput\u001b[39;49m\u001b[43m[\u001b[49m\u001b[38;5;241;43m0\u001b[39;49m\u001b[43m]\u001b[49m)\u001b[38;5;241m+\u001b[39m\u001b[38;5;28mint\u001b[39m(input_int[\u001b[38;5;241m1\u001b[39m]))\n\u001b[0;32m     10\u001b[0m \u001b[38;5;28mprint\u001b[39m(\u001b[38;5;28mint\u001b[39m(input_int[\u001b[38;5;241m0\u001b[39m])\u001b[38;5;241m*\u001b[39m\u001b[38;5;28mint\u001b[39m(input_int[\u001b[38;5;241m1\u001b[39m]))\n",
      "\u001b[1;31mTypeError\u001b[0m: 'method' object is not subscriptable"
     ]
    }
   ],
   "source": [
    "\n",
    "\n",
    "# 6. 튜플\n",
    "# 사용자로부터 두 개의 정수를 입력받고, 그 숫자들의 합과 곱을 튜플로 반환하는 함수를 작성하세요. \n",
    "# 반환된 튜플을 사용하여 결과를 출력하세요.\n",
    "\n",
    "input_int= input().split(\",\")\n",
    "\n",
    "print(input_int)\n",
    "\n",
    "print(int(input[0])+int(input_int[1]))\n",
    "print(int(input_int[0])*int(input_int[1]))"
   ]
  },
  {
   "cell_type": "code",
   "execution_count": null,
   "metadata": {},
   "outputs": [],
   "source": []
  },
  {
   "cell_type": "code",
   "execution_count": 2,
   "metadata": {},
   "outputs": [
    {
     "name": "stdout",
     "output_type": "stream",
     "text": [
      "30\n",
      "-10\n",
      "200\n",
      "0\n",
      "0.5\n",
      "10\n",
      "100000000000000000000\n"
     ]
    }
   ],
   "source": [
    "\n",
    "\n",
    "\n",
    "# 7. 딕셔너리\n",
    "# 학생의 이름과 점수를 입력받아 딕셔너리에 저장하고, 저장된 학생들의 평균 점수를 계산하여 출력하는 프로그램을 작성하세요.\n",
    "\n",
    "# 8. 함수\n",
    "# 두 개의 숫자를 입력받아 두 숫자의 합을 반환하는 함수를 작성하고, 함수를 호출하여 그 결과를 출력하세요.\n",
    "\n",
    "# 9. 리스트와 반복문\n",
    "# 1부터 10까지의 숫자가 담긴 리스트에서 짝수만 골라 리스트로 반환하는 함수를 작성하세요.\n",
    "\n",
    "# 10. 딕셔너리와 함수\n",
    "# 딕셔너리로 학생의 이름, 나이, 성적을 입력받고, 이 정보를 출력하는 함수를 작성하세요. \n",
    "# 또한, 성적이 80점 이상이면 \"합격\", 미만이면 \"불합격\"을 출력하세요."
   ]
  }
 ],
 "metadata": {
  "kernelspec": {
   "display_name": "Python 3",
   "language": "python",
   "name": "python3"
  },
  "language_info": {
   "codemirror_mode": {
    "name": "ipython",
    "version": 3
   },
   "file_extension": ".py",
   "mimetype": "text/x-python",
   "name": "python",
   "nbconvert_exporter": "python",
   "pygments_lexer": "ipython3",
   "version": "3.12.4"
  }
 },
 "nbformat": 4,
 "nbformat_minor": 2
}
