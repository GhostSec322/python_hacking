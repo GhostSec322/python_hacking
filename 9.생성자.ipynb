{
 "cells": [
  {
   "cell_type": "code",
   "execution_count": 2,
   "metadata": {},
   "outputs": [
    {
     "name": "stdout",
     "output_type": "stream",
     "text": [
      "800\n"
     ]
    }
   ],
   "source": [
    "class Monster:\n",
    "    def __init__(self,health,attack,speed): #생성자\n",
    "        self.health=health\n",
    "        self.attack =attack\n",
    "        self.speed=speed\n",
    "    def decrease_health(self,num):#체력감소 메서드\n",
    "            self.health-=num\n",
    "    def get_health(self): #체력반환 메서드\n",
    "            return self.health\n",
    "#고블린 인스턴스 생성\n",
    "goblin =Monster(800,120,300) \n",
    "print(goblin.get_health())\n",
    "#늑대 인스턴스 생성\n",
    "wolf=Monster(1500,200,350)\n"
   ]
  }
 ],
 "metadata": {
  "kernelspec": {
   "display_name": "Python 3",
   "language": "python",
   "name": "python3"
  },
  "language_info": {
   "codemirror_mode": {
    "name": "ipython",
    "version": 3
   },
   "file_extension": ".py",
   "mimetype": "text/x-python",
   "name": "python",
   "nbconvert_exporter": "python",
   "pygments_lexer": "ipython3",
   "version": "3.12.4"
  }
 },
 "nbformat": 4,
 "nbformat_minor": 2
}
