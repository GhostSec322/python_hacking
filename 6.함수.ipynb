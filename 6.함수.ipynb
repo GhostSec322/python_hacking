{
 "cells": [
  {
   "cell_type": "code",
   "execution_count": 9,
   "metadata": {},
   "outputs": [],
   "source": [
    "def 함수이름():\n",
    "    명령블록\n",
    "def 함수이름(매개변수1,매개변수2):\n",
    "    명령블록"
   ]
  },
  {
   "cell_type": "code",
   "execution_count": 10,
   "metadata": {},
   "outputs": [
    {
     "name": "stdout",
     "output_type": "stream",
     "text": [
      "Hello\n"
     ]
    }
   ],
   "source": [
    "def sayHello():\n",
    "    print(\"Hello\")\n",
    "    \n",
    "#함수호출\n",
    "sayHello()\n",
    "\n",
    "def add(op1,op2):\n",
    "    return op1+op2\n",
    "\n",
    "def multiply(x, y):\n",
    "\tresult = x * y\n",
    "\treturn result\n"
   ]
  },
  {
   "cell_type": "markdown",
   "metadata": {},
   "source": [
    "로또에 당첨 되서 퇴사를 하고 싶었던 김로또는 로또 예상번호 추출 프로그램을 파이썬으로 작성하려고 한다. 다음 조건에 따라 김로또의 프로그램을 완성해보자. \n",
    "로또 번호 6개를 생성한다.\n",
    "로또 번호는 1~45까지의 랜덤한 번호다.\n",
    "6개의 숫자 모두 달라야 한다\n",
    "getRandomNumber() 함수를 사용해서 구현한다. (random 모듈의 sample 함수는 사용하지 않는다)\n"
   ]
  },
  {
   "cell_type": "code",
   "execution_count": 11,
   "metadata": {},
   "outputs": [
    {
     "name": "stdout",
     "output_type": "stream",
     "text": [
      "[37, 41, 10, 40, 43, 30]\n"
     ]
    }
   ],
   "source": [
    "import random \n",
    "\n",
    "def get():\n",
    "    number =[]\n",
    "    while True:\n",
    "        ap_num=random.randint(1,45)\n",
    "        if ap_num in number:\n",
    "            pass\n",
    "        else:\n",
    "         number.append(ap_num)\n",
    "         if len(number) == 6:\n",
    "            break\n",
    "    return number\n",
    "\n",
    "print(get())"
   ]
  }
 ],
 "metadata": {
  "kernelspec": {
   "display_name": "Python 3",
   "language": "python",
   "name": "python3"
  },
  "language_info": {
   "codemirror_mode": {
    "name": "ipython",
    "version": 3
   },
   "file_extension": ".py",
   "mimetype": "text/x-python",
   "name": "python",
   "nbconvert_exporter": "python",
   "pygments_lexer": "ipython3",
   "version": "3.12.4"
  }
 },
 "nbformat": 4,
 "nbformat_minor": 2
}
