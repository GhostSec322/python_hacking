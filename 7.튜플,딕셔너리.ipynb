{
 "cells": [
  {
   "cell_type": "markdown",
   "metadata": {},
   "source": [
    "- 시퀀스 자료형\n",
    "- 수정,추가,삭제 불가능한 리스트\n",
    "- 메모리 사용이 효율적\n",
    "- 읽기만 가능하기 때문에 데이터 손실 염려가 없다\n",
    "튜플=(데이터1,데이터2,...)\n",
    "튜플 데이터1,데이터2,...\n",
    "# 튜플을 리스트로\n",
    "a1= tuple([5,6,7])\n",
    "x= list(range(10))\n",
    "a= tuple(x)\n",
    "\n",
    "x2=5,6,7\n",
    "a=list(x2)"
   ]
  },
  {
   "cell_type": "code",
   "execution_count": 5,
   "metadata": {},
   "outputs": [
    {
     "name": "stdout",
     "output_type": "stream",
     "text": [
      "(1, 2, 3)\n",
      "1 2 3\n",
      "3 4 5\n"
     ]
    }
   ],
   "source": [
    "#패킹 : 여러개의 데이터를 하나의 변수에 할당하는 것\n",
    "#언패킹 : 컬렉션의 각 데이터를 각각의 변수에 할당하는 것\n",
    "a= 1,2,3\n",
    "#언패킹\n",
    "a1,a2,a3 = a\n",
    "print(a)\n",
    "print(a1,a2,a3)\n",
    "#패킹\n",
    "num= [3,4,5]\n",
    "#언패킹\n",
    "a,b,c= num\n",
    "print(a,b,c)"
   ]
  },
  {
   "cell_type": "code",
   "execution_count": 9,
   "metadata": {},
   "outputs": [
    {
     "name": "stdout",
     "output_type": "stream",
     "text": [
      "2\n",
      "2\n",
      "40\n",
      "10\n",
      "130\n"
     ]
    },
    {
     "ename": "",
     "evalue": "",
     "output_type": "error",
     "traceback": [
      "\u001b[1;31mThe Kernel crashed while executing code in the current cell or a previous cell. \n",
      "\u001b[1;31mPlease review the code in the cell(s) to identify a possible cause of the failure. \n",
      "\u001b[1;31mClick <a href='https://aka.ms/vscodeJupyterKernelCrash'>here</a> for more info. \n",
      "\u001b[1;31mView Jupyter <a href='command:jupyter.viewOutput'>log</a> for further details."
     ]
    }
   ],
   "source": [
    "a=10,20,30,40,30\n",
    "print(a.index(30))\n",
    "print(a.count(30))\n",
    "print(max(a))\n",
    "print(min(a))\n",
    "print(sum(a))"
   ]
  }
 ],
 "metadata": {
  "kernelspec": {
   "display_name": "Python 3",
   "language": "python",
   "name": "python3"
  },
  "language_info": {
   "codemirror_mode": {
    "name": "ipython",
    "version": 3
   },
   "file_extension": ".py",
   "mimetype": "text/x-python",
   "name": "python",
   "nbconvert_exporter": "python",
   "pygments_lexer": "ipython3",
   "version": "3.12.4"
  }
 },
 "nbformat": 4,
 "nbformat_minor": 2
}
