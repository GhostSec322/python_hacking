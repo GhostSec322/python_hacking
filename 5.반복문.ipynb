{
 "cells": [
  {
   "cell_type": "markdown",
   "metadata": {},
   "source": [
    "# 시퀀스 자료형\n",
    "- 순서가 있는 자료형\n",
    "- 리스트\n",
    "- 문자열\n",
    "- range객체\n",
    "- 튜플 딕셔너리\n"
   ]
  },
  {
   "cell_type": "code",
   "execution_count": null,
   "metadata": {},
   "outputs": [],
   "source": [
    "\n",
    "for 변수 in 시퀀스자료:\n",
    "    명령문"
   ]
  },
  {
   "cell_type": "code",
   "execution_count": 1,
   "metadata": {},
   "outputs": [
    {
     "name": "stdout",
     "output_type": "stream",
     "text": [
      "1\n",
      "2\n",
      "3\n",
      "4\n"
     ]
    }
   ],
   "source": [
    "for i in [1,2,3,4]:\n",
    "    print(i)"
   ]
  },
  {
   "cell_type": "code",
   "execution_count": 3,
   "metadata": {},
   "outputs": [
    {
     "name": "stdout",
     "output_type": "stream",
     "text": [
      "0\n",
      "1\n",
      "2\n",
      "3\n",
      "4\n",
      "5\n",
      "6\n",
      "7\n",
      "8\n",
      "9\n"
     ]
    }
   ],
   "source": [
    "for i in range(10):\n",
    "    print(i)"
   ]
  },
  {
   "cell_type": "code",
   "execution_count": null,
   "metadata": {},
   "outputs": [],
   "source": [
    "while 조건식:\n",
    "    명령\n",
    "    증감식\n"
   ]
  },
  {
   "cell_type": "code",
   "execution_count": 4,
   "metadata": {},
   "outputs": [
    {
     "name": "stdout",
     "output_type": "stream",
     "text": [
      "0번째 다짐 나는 할수 있다\n",
      "1번째 다짐 나는 할수 있다\n",
      "2번째 다짐 나는 할수 있다\n",
      "3번째 다짐 나는 할수 있다\n",
      "4번째 다짐 나는 할수 있다\n",
      "5번째 다짐 나는 할수 있다\n",
      "6번째 다짐 나는 할수 있다\n",
      "7번째 다짐 나는 할수 있다\n",
      "8번째 다짐 나는 할수 있다\n",
      "9번째 다짐 나는 할수 있다\n"
     ]
    }
   ],
   "source": [
    "i=0\n",
    "while i <10:\n",
    "    print(f\"{i}번째 다짐 나는 할수 있다\")\n",
    "    i+=1"
   ]
  },
  {
   "cell_type": "code",
   "execution_count": 5,
   "metadata": {},
   "outputs": [],
   "source": [
    "#무한루프\n",
    "while True:\n",
    "\tx = input(\"종료하려면 exit을 입력하세요>>>\")\n",
    "\tif x == \"exit\":\n",
    "\t\tbreak"
   ]
  },
  {
   "cell_type": "code",
   "execution_count": 7,
   "metadata": {},
   "outputs": [
    {
     "name": "stdout",
     "output_type": "stream",
     "text": [
      "6 X 1 = 6\n",
      "6 X 2 = 12\n",
      "6 X 3 = 18\n",
      "6 X 4 = 24\n",
      "6 X 5 = 30\n",
      "6 X 6 = 36\n",
      "6 X 7 = 42\n",
      "6 X 8 = 48\n",
      "6 X 9 = 54\n"
     ]
    }
   ],
   "source": [
    "number=int(input(\"몇 단을 출력할까요?>>>\"))\n",
    "for i in range(1,10):\n",
    "    print(f\"{number} X {i} = {number*i}\")\n",
    "\n"
   ]
  },
  {
   "cell_type": "code",
   "execution_count": 12,
   "metadata": {},
   "outputs": [
    {
     "name": "stdout",
     "output_type": "stream",
     "text": [
      "다시 입력해 주세요\n",
      "게임을 시작합니다\n",
      "실시간 랭킹\n",
      "게임을 종료합니다\n"
     ]
    }
   ],
   "source": [
    "while True:\n",
    "    input_operator=int(input())\n",
    "    if input_operator in [1,2,3]:\n",
    "       \n",
    "        if input_operator ==1:\n",
    "            print(\"게임을 시작합니다\")\n",
    "        elif input_operator==2:\n",
    "            print(\"실시간 랭킹\" )\n",
    "        else:\n",
    "            print(\"게임을 종료합니다\")\n",
    "            break\n",
    "    else:\n",
    "        print(\"다시 입력해 주세요\")"
   ]
  },
  {
   "cell_type": "code",
   "execution_count": 16,
   "metadata": {},
   "outputs": [
    {
     "name": "stdout",
     "output_type": "stream",
     "text": [
      "안녕\n",
      "반가워\n",
      "파이썬\n"
     ]
    },
    {
     "ename": "",
     "evalue": "",
     "output_type": "error",
     "traceback": [
      "\u001b[1;31mThe Kernel crashed while executing code in the current cell or a previous cell. \n",
      "\u001b[1;31mPlease review the code in the cell(s) to identify a possible cause of the failure. \n",
      "\u001b[1;31mClick <a href='https://aka.ms/vscodeJupyterKernelCrash'>here</a> for more info. \n",
      "\u001b[1;31mView Jupyter <a href='command:jupyter.viewOutput'>log</a> for further details."
     ]
    }
   ],
   "source": [
    "korean=[\"안녕\",\"반가워\",\"파이썬\",\"좋아해\"]\n",
    "for i in korean:\n",
    "    print(i)\n",
    "    input_word=input(\"\")\n",
    "    if i == input_word:\n",
    "        pass\n",
    "    else:\n",
    "        break\n"
   ]
  }
 ],
 "metadata": {
  "kernelspec": {
   "display_name": "Python 3",
   "language": "python",
   "name": "python3"
  },
  "language_info": {
   "codemirror_mode": {
    "name": "ipython",
    "version": 3
   },
   "file_extension": ".py",
   "mimetype": "text/x-python",
   "name": "python",
   "nbconvert_exporter": "python",
   "pygments_lexer": "ipython3",
   "version": "3.12.4"
  }
 },
 "nbformat": 4,
 "nbformat_minor": 2
}
