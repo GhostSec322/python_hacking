{
 "cells": [
  {
   "cell_type": "code",
   "execution_count": 5,
   "metadata": {},
   "outputs": [],
   "source": [
    "class Item:\n",
    "    def __init__(self,name,price,weight,isdropable) :\n",
    "        self.name=name\n",
    "        self.price=price\n",
    "        self.weight=weight\n",
    "        self.isdropable=isdropable\n",
    "    def seale():\n",
    "        print(f\"[{self.name}] 판매가격[{self.price}]\")\n",
    "    def discard():\n",
    "        if self.isdropable :\n",
    "            print(\"버리기\")\n"
   ]
  },
  {
   "cell_type": "code",
   "execution_count": 6,
   "metadata": {},
   "outputs": [],
   "source": [
    "class wearableItem(Item):\n",
    "    def __init__(self, name, price, weight, isdropable,effect):\n",
    "        super().__init__(name, price, weight, isdropable)\n",
    "        self.effect=effect\n",
    "    def wear(self):\n",
    "        print(f\"[{self.name}]착용\")\n",
    "\n",
    "class UsableItem(Item):\n",
    "    def __init__(self, name, price, weight, isdropable,effect):\n",
    "        super().__init__(name, price, weight, isdropable)\n",
    "        self.effect=effect\n",
    "    def use(self):\n",
    "        print(f\"[{self.name}] 사용하기\")"
   ]
  }
 ],
 "metadata": {
  "kernelspec": {
   "display_name": "Python 3",
   "language": "python",
   "name": "python3"
  },
  "language_info": {
   "codemirror_mode": {
    "name": "ipython",
    "version": 3
   },
   "file_extension": ".py",
   "mimetype": "text/x-python",
   "name": "python",
   "nbconvert_exporter": "python",
   "pygments_lexer": "ipython3",
   "version": "3.12.4"
  }
 },
 "nbformat": 4,
 "nbformat_minor": 2
}
